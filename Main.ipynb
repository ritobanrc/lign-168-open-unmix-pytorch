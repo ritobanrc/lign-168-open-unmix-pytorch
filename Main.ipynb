{
 "cells": [
  {
   "cell_type": "code",
   "execution_count": 13,
   "id": "7392bc28-ff20-47ba-a4f5-56bb894179ce",
   "metadata": {},
   "outputs": [],
   "source": [
    "from scripts import train\n",
    "from openunmix import our_data\n",
    "import importlib\n",
    "\n",
    "import matplotlib.pyplot as plt"
   ]
  },
  {
   "cell_type": "code",
   "execution_count": 14,
   "id": "8d70d291-2eef-4687-860f-8619a8e8cbe4",
   "metadata": {
    "editable": true,
    "slideshow": {
     "slide_type": ""
    },
    "tags": []
   },
   "outputs": [
    {
     "data": {
      "text/plain": [
       "<module 'openunmix.our_data' from '/home/jovyan/lign-168-open-unmix-pytorch/openunmix/our_data.py'>"
      ]
     },
     "execution_count": 14,
     "metadata": {},
     "output_type": "execute_result"
    }
   ],
   "source": [
    "importlib.reload(train)\n",
    "importlib.reload(our_data)"
   ]
  },
  {
   "cell_type": "code",
   "execution_count": null,
   "id": "08907400-fb54-4875-ad77-420600b791a1",
   "metadata": {
    "editable": true,
    "slideshow": {
     "slide_type": ""
    },
    "tags": []
   },
   "outputs": [
    {
     "name": "stdout",
     "output_type": "stream",
     "text": [
      "Using GPU: True\n"
     ]
    },
    {
     "name": "stderr",
     "output_type": "stream",
     "text": [
      "Compute dataset statistics:   3%|▎         | 2/71 [00:02<01:28,  1.29s/it]"
     ]
    }
   ],
   "source": [
    "train.main()"
   ]
  },
  {
   "cell_type": "code",
   "execution_count": 10,
   "id": "8b7120d9-2e82-4f6a-b100-c58ac76768d3",
   "metadata": {
    "editable": true,
    "slideshow": {
     "slide_type": ""
    },
    "tags": []
   },
   "outputs": [],
   "source": [
    "dataset = our_data.ESMUC_Dataset_Isolated(\"~/ESMUC_dataset\", split='train')\n"
   ]
  },
  {
   "cell_type": "code",
   "execution_count": 11,
   "id": "970b6990-becd-4876-818e-ea83bd1bd1e2",
   "metadata": {
    "editable": true,
    "slideshow": {
     "slide_type": ""
    },
    "tags": []
   },
   "outputs": [
    {
     "name": "stdout",
     "output_type": "stream",
     "text": [
      "tensor([[ 0.0000,  0.0000,  0.0000,  ..., -0.1918, -0.1812, -0.1726]])\n",
      "tensor([[-2.9088e-07, -2.0501e-06, -1.9994e-06,  ..., -9.5348e-02,\n",
      "         -9.1463e-02, -8.8515e-02]]) tensor([[ 0.0000,  0.0000,  0.0000,  ..., -0.1918, -0.1812, -0.1726]])\n"
     ]
    }
   ],
   "source": []
  },
  {
   "cell_type": "code",
   "execution_count": 7,
   "id": "f475da42-d38f-4eec-8c1e-48f621b4f59b",
   "metadata": {
    "editable": true,
    "slideshow": {
     "slide_type": ""
    },
    "tags": []
   },
   "outputs": [],
   "source": []
  },
  {
   "cell_type": "code",
   "execution_count": 8,
   "id": "197dbebd-5841-4e80-af96-6cfee9d08e08",
   "metadata": {},
   "outputs": [
    {
     "ename": "AttributeError",
     "evalue": "module 'openunmix.data' has no attribute 'main'",
     "output_type": "error",
     "traceback": [
      "\u001b[0;31m---------------------------------------------------------------------------\u001b[0m",
      "\u001b[0;31mAttributeError\u001b[0m                            Traceback (most recent call last)",
      "Cell \u001b[0;32mIn[8], line 1\u001b[0m\n\u001b[0;32m----> 1\u001b[0m \u001b[43mdata\u001b[49m\u001b[38;5;241;43m.\u001b[39;49m\u001b[43mmain\u001b[49m()\n",
      "\u001b[0;31mAttributeError\u001b[0m: module 'openunmix.data' has no attribute 'main'"
     ]
    }
   ],
   "source": []
  },
  {
   "cell_type": "code",
   "execution_count": null,
   "id": "350323c8-e6f0-4756-a00b-f216eb3b2924",
   "metadata": {
    "editable": true,
    "slideshow": {
     "slide_type": ""
    },
    "tags": []
   },
   "outputs": [],
   "source": []
  }
 ],
 "metadata": {
  "kernelspec": {
   "display_name": "Python 3 (ipykernel)",
   "language": "python",
   "name": "python3"
  },
  "language_info": {
   "codemirror_mode": {
    "name": "ipython",
    "version": 3
   },
   "file_extension": ".py",
   "mimetype": "text/x-python",
   "name": "python",
   "nbconvert_exporter": "python",
   "pygments_lexer": "ipython3",
   "version": "3.11.9"
  }
 },
 "nbformat": 4,
 "nbformat_minor": 5
}
